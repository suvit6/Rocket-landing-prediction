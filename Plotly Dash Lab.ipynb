{
    "cells": [
        {
            "cell_type": "markdown",
            "metadata": {
                "collapsed": true
            },
            "source": "#  Interactive Dashboard with Ploty Dash"
        },
        {
            "cell_type": "markdown",
            "metadata": {},
            "source": "In this lab, you will be building a Plotly Dash application for users to perform interactive visual analytics on SpaceX launch data in real-time."
        },
        {
            "cell_type": "markdown",
            "metadata": {},
            "source": "This dashboard application contains input components such as a dropdown list and a range slider to interact with a pie chart and a scatter point chart. You will be guided to build this dashboard application via the following tasks:"
        },
        {
            "cell_type": "markdown",
            "metadata": {},
            "source": "* TASK 1: Add a Launch Site Drop-down Input Component\n* TASK 2: Add a callback function to render success-pie-chart based on selected site dropdown\n* TASK 3: Add a Range Slider to Select Payload\n* TASK 4: Add a callback function to render the success-payload-scatter-chart scatter plot"
        },
        {
            "cell_type": "markdown",
            "metadata": {},
            "source": "After visual analysis using the dashboard, you should be able to obtain some insights to answer the following five questions:\n\n* Which site has the largest successful launches?\n* Which site has the highest launch success rate?\n* Which payload range(s) has the highest launch success rate?\n* Which payload range(s) has the lowest launch success rate?\n* Which F9 Booster version (v1.0, v1.1, FT, B4, B5, etc.) has the highest\n  launch success rate?"
        },
        {
            "cell_type": "code",
            "execution_count": 1,
            "metadata": {},
            "outputs": [
                {
                    "name": "stdout",
                    "output_type": "stream",
                    "text": "Requirement already satisfied: dash in /opt/conda/envs/Python-3.8-main/lib/python3.8/site-packages (2.0.0)\nRequirement already satisfied: flask-compress in /opt/conda/envs/Python-3.8-main/lib/python3.8/site-packages (from dash) (1.10.1)\nRequirement already satisfied: Flask>=1.0.4 in /opt/conda/envs/Python-3.8-main/lib/python3.8/site-packages (from dash) (2.0.2)\nRequirement already satisfied: plotly>=5.0.0 in /opt/conda/envs/Python-3.8-main/lib/python3.8/site-packages (from dash) (5.3.1)\nRequirement already satisfied: dash-core-components==2.0.0 in /opt/conda/envs/Python-3.8-main/lib/python3.8/site-packages (from dash) (2.0.0)\nRequirement already satisfied: dash-html-components==2.0.0 in /opt/conda/envs/Python-3.8-main/lib/python3.8/site-packages (from dash) (2.0.0)\nRequirement already satisfied: dash-table==5.0.0 in /opt/conda/envs/Python-3.8-main/lib/python3.8/site-packages (from dash) (5.0.0)\nRequirement already satisfied: itsdangerous>=2.0 in /opt/conda/envs/Python-3.8-main/lib/python3.8/site-packages (from Flask>=1.0.4->dash) (2.0.1)\nRequirement already satisfied: Jinja2>=3.0 in /opt/conda/envs/Python-3.8-main/lib/python3.8/site-packages (from Flask>=1.0.4->dash) (3.0.0)\nRequirement already satisfied: click>=7.1.2 in /opt/conda/envs/Python-3.8-main/lib/python3.8/site-packages (from Flask>=1.0.4->dash) (7.1.2)\nRequirement already satisfied: Werkzeug>=2.0 in /opt/conda/envs/Python-3.8-main/lib/python3.8/site-packages (from Flask>=1.0.4->dash) (2.0.2)\nRequirement already satisfied: MarkupSafe>=2.0.0rc2 in /opt/conda/envs/Python-3.8-main/lib/python3.8/site-packages (from Jinja2>=3.0->Flask>=1.0.4->dash) (2.0.1)\nRequirement already satisfied: six in /opt/conda/envs/Python-3.8-main/lib/python3.8/site-packages (from plotly>=5.0.0->dash) (1.15.0)\nRequirement already satisfied: tenacity>=6.2.0 in /opt/conda/envs/Python-3.8-main/lib/python3.8/site-packages (from plotly>=5.0.0->dash) (8.0.1)\nRequirement already satisfied: brotli in /opt/conda/envs/Python-3.8-main/lib/python3.8/site-packages (from flask-compress->dash) (1.0.9)\nNote: you may need to restart the kernel to use updated packages.\n"
                }
            ],
            "source": "pip install dash"
        },
        {
            "cell_type": "code",
            "execution_count": null,
            "metadata": {},
            "outputs": [
                {
                    "name": "stderr",
                    "output_type": "stream",
                    "text": "<ipython-input-2-530868fb4f61>:3: UserWarning: \nThe dash_html_components package is deprecated. Please replace\n`import dash_html_components as html` with `from dash import html`\n  import dash_html_components as html\n<ipython-input-2-530868fb4f61>:4: UserWarning: \nThe dash_core_components package is deprecated. Please replace\n`import dash_core_components as dcc` with `from dash import dcc`\n  import dash_core_components as dcc\n<ipython-input-2-530868fb4f61>:8: UserWarning: \nThe dash_table package is deprecated. Please replace\n`import dash_table` with `from dash import dash_table`\n\nAlso, if you're using any of the table format helpers (e.g. Group), replace \n`from dash_table.Format import Group` with \n`from dash.dash_table.Format import Group`\n  import dash_table\n"
                },
                {
                    "name": "stdout",
                    "output_type": "stream",
                    "text": "Dash is running on http://127.0.0.1:8050/\n\n * Serving Flask app '__main__' (lazy loading)\n * Environment: production\n\u001b[31m   WARNING: This is a development server. Do not use it in a production deployment.\u001b[0m\n\u001b[2m   Use a production WSGI server instead.\u001b[0m\n * Debug mode: off\n"
                },
                {
                    "name": "stderr",
                    "output_type": "stream",
                    "text": " * Running on http://127.0.0.1:8050/ (Press CTRL+C to quit)\n"
                }
            ],
            "source": "import pandas as pd\nimport dash\nimport dash_html_components as html\nimport dash_core_components as dcc\nfrom dash.dependencies import Input, Output\nimport plotly.express as px\n# MY IMPORTS\nimport dash_table\n\n# Read the airline data into pandas dataframe \nspacex_df = pd.read_csv(\"https://cf-courses-data.s3.us.cloud-object-storage.appdomain.cloud/IBM-DS0321EN-SkillsNetwork/datasets/spacex_launch_dash.csv\")\nmax_payload = spacex_df['Payload Mass (kg)'].max()\nmin_payload = spacex_df['Payload Mass (kg)'].min()\n\n##  <MY_ADDS>\ndropdown_list = spacex_df[['Launch Site']].drop_duplicates(inplace=False)\ndf2 = pd.DataFrame({'Launch Site':['ALL']})\ndropdown_list = dropdown_list.append(df2)\ndropdown_list = dropdown_list.sort_values(['Launch Site']).reset_index(drop=True)\n\n#  Alternative method provided by instructor\nif 1==0:\n    OptionList = [{'label': i, 'value': i} for i in spacex_df['Launch Site'].unique()]\n    OptionList.insert(0,{'label': 'All', 'value': 'All'})\n\n# Default Pie Chart\nfig_default_pie = px.pie(spacex_df, values='class', names='Launch Site', title='Total Success Launches by Site')\nfig_default_scatter = px.scatter(spacex_df, x='Payload Mass (kg)', y='class', color='Booster Version Category')\n\n##  </MY_ADDS>\n\n\n# Create a dash application\napp = dash.Dash(__name__)\n\n# Create an app layout\napp.layout = html.Div(children=[html.H1('SpaceX Launch Records Dashboard',\n                                        style={'textAlign': 'center', 'color': '#503D36',\n                                               'font-size': 40}),\n                                # TASK 1: Add a dropdown list to enable Launch Site selection\n                                # The default select value is for ALL sites\n                                # dcc.Dropdown(id='site-dropdown',...)\n                                html.Div([\n                                    dcc.Dropdown(\n                                        id='site_dropdown'\n                                        , options=[\n                                            {'label': i, 'value': i} for i in dropdown_list['Launch Site']\n                                        ]\n                                        # alternative using method provided by instructor\n                                        #, options=OptionList\n                                        #, value=OptionList[0]\n                                        , value='ALL'\n                                        , placeholder=\"Select a Launch Site here\"\n                                        , searchable=True\n                                        , style={'width':'80%', 'padding':'3px', 'font-size':'20px', 'text-align-last':'center'}\n                                    )\n                                ])\n\n                                , html.Br()\n\n                                # TASK 2: Add a pie chart to show the total successful launches count for all sites\n                                # If a specific launch site was selected, show the Success vs. Failed counts for the site\n                                , html.Div(\n                                    #dcc.Graph(id='success-pie-chart')\n                                    # default it to all for now so we can confirm it displays\n                                    dcc.Graph(id='success-pie-chart', figure=fig_default_pie)\n                                )\n                                , html.Br()\n                                , html.Div(['Initial View - ALL'], id='callback_test')\n                                , html.Br()\n\n                                , html.P(\"Payload range (Kg):\")\n                                # TASK 3: Add a slider to select payload range\n                                , dcc.RangeSlider(\n                                    id='payload-slider'\n                                    , min=0\n                                    , max=10000\n                                    , step=100\n                                    , value=[min_payload, max_payload]\n                                    , marks={\n                                        0: '0'\n                                        , 2500: '2500'\n                                        , 5000: '5000'\n                                        , 7500: '7500'\n                                        , 10000: '10000'\n                                    }\n                                )\n\n                                # TASK 4: Add a scatter chart to show the correlation between payload and launch success\n                                , html.Div(\n                                    dcc.Graph(\n                                        id='success-payload-scatter-chart'\n                                        , figure=fig_default_scatter\n                                    )\n                                )\n                                # TEST - TASK 4\n                                , html.Br()\n                                # , html.Div(\n                                #     id='task4_test'\n                                #     , title='TASK 4 TEST - Show Dataframe'\n                                #     , children = ['Initial View - ALL']\n                                # )\n                                # , html.Br()\n                                # ,\n                            ])  # END - Main app.layout Div\n        \n\n# TASK 2:\n# Add a callback function for `site-dropdown` as input, `success-pie-chart` as output\n@app.callback(\n    Output(component_id='success-pie-chart', component_property='figure')\n    , Input(component_id='site_dropdown', component_property='value')\n)\ndef get_pie_chart(site_val):\n    filtered_df = spacex_df\n    if site_val == 'ALL':\n        fig = px.pie(\n            filtered_df\n            , values='class'\n            , names= 'Launch Site'\n            , title = 'Total Success Launches By Site'\n        )\n        return fig\n        #return[dcc.Graph(figure=fig)]\n    else:\n        # return the outcomes pichart for a selected site\n        filtered_df = spacex_df[spacex_df['Launch Site']==site_val]\n        filtered_df = filtered_df.groupby(['Launch Site', 'class']).size().reset_index()\n        filtered_df.rename(columns={0:'class count'}, inplace=True)\n        fig = px.pie(\n            filtered_df\n            , values='class count'\n            , names= 'class'\n            , title = f'Total Success Launches for Site {site_val}'\n        )    \n        return fig \n\n\n##  MY TEST of dropdown callback\n@app.callback(\n    Output(component_id='callback_test', component_property='children')\n    , Input(component_id='site_dropdown', component_property='value')\n)\ndef callbacktest(siteval):\n    retval = f'siteval = {siteval}'\n    return retval\n\n\n# TASK 4:\n# Add a callback function for `site-dropdown` and `payload-slider` as inputs, `success-payload-scatter-chart` as output\n@app.callback(\n    Output(component_id='success-payload-scatter-chart', component_property='figure')\n    , [\n        Input(component_id='site_dropdown', component_property='value')\n        , Input(component_id='payload-slider', component_property='value')\n    ]\n)\ndef get_scatter_plot(site_val, slider_val):\n    low, high = slider_val\n    cond = (spacex_df['Payload Mass (kg)'] > low) & (spacex_df['Payload Mass (kg)'] < high)\n    filtered_df = spacex_df[cond]\n    if site_val == 'ALL':\n        fig = px.scatter(\n            filtered_df\n            , x='Payload Mass (kg)'\n            , y='class'\n            , color='Booster Version Category'\n        )\n        return fig\n    else:\n        # return the outcomes pichart for a selected site\n        filtered_df = spacex_df[spacex_df['Launch Site']==site_val]\n        filtered_df = filtered_df.groupby(['Launch Site', 'Payload Mass (kg)', 'Booster Version Category','class']).size().reset_index()\n        filtered_df.rename(columns={0:'class count'}, inplace=True)\n        fig = px.scatter(\n            filtered_df\n            , x='Payload Mass (kg)'\n            , y='class'\n            , color='Booster Version Category'\n        )\n        return fig \n\n# Run the app\nif __name__ == '__main__':\n    app.run_server()\n\n"
        },
        {
            "cell_type": "code",
            "execution_count": null,
            "metadata": {},
            "outputs": [],
            "source": ""
        }
    ],
    "metadata": {
        "kernelspec": {
            "display_name": "Python 3.8",
            "language": "python",
            "name": "python3"
        },
        "language_info": {
            "codemirror_mode": {
                "name": "ipython",
                "version": 3
            },
            "file_extension": ".py",
            "mimetype": "text/x-python",
            "name": "python",
            "nbconvert_exporter": "python",
            "pygments_lexer": "ipython3",
            "version": "3.8.11"
        }
    },
    "nbformat": 4,
    "nbformat_minor": 1
}